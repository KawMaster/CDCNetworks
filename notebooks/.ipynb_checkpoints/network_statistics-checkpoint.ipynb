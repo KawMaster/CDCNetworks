{
 "cells": [
  {
   "cell_type": "markdown",
   "metadata": {},
   "source": [
    " # Comparing the Networks using Local and Global Statistics"
   ]
  },
  {
   "cell_type": "markdown",
   "metadata": {},
   "source": [
    " This notebook goes over Section 4 of the final project.  It calculates the $6$ statistics needed."
   ]
  },
  {
   "cell_type": "markdown",
   "metadata": {},
   "source": [
    " ## Libraries"
   ]
  },
  {
   "cell_type": "code",
   "execution_count": null,
   "metadata": {},
   "outputs": [],
   "source": [
    "# Network stuff\n",
    "\n",
    "# Data Science\n",
    "import numpy as np\n",
    "import karateclub as kc\n",
    "import networkx as nx\n",
    "\n",
    "\n",
    "# Utilities\n",
    "import pandas as pd\n",
    "from tqdm.notebook import tqdm, trange\n",
    "import os\n",
    "import glob\n",
    "import collections\n",
    "\n",
    "# Plotting\n",
    "import matplotlib.pyplot as plt\n",
    "import seaborn as sns\n",
    "\n",
    "sns.set(rc = {'figure.figsize':(10,6)})\n",
    "sns.set(rc = {'figure.dpi': 500})\n",
    "sns.set_style(\"white\")"
   ]
  },
  {
   "cell_type": "markdown",
   "metadata": {},
   "source": [
    " ## Loading the Data"
   ]
  },
  {
   "cell_type": "code",
   "execution_count": null,
   "metadata": {},
   "outputs": [],
   "source": [
    "NETWORKS = {}\n",
    "\n",
    "for filename in glob.glob('../data/processed/*.csv'):\n",
    "    with open(os.path.join('.', filename), 'r') as f:\n",
    "        network = pd.read_csv(f).to_numpy()\n",
    "        fn = filename.split('../data/processed\\\\A_')[1].split('.csv')[0]\n",
    "        NETWORKS[fn] = nx.from_numpy_matrix(network)\n",
    "        \n",
    "NETWORK_KEYS = list(NETWORKS.keys())      \n"
   ]
  },
  {
   "cell_type": "markdown",
   "metadata": {},
   "source": [
    " ## Creating Network Statistics Class\n",
    " Handles all the network statistic calls"
   ]
  },
  {
   "cell_type": "code",
   "execution_count": null,
   "metadata": {},
   "outputs": [],
   "source": [
    "class NetworkStatistics():\n",
    "    \"\"\"\n",
    "    Provides basic utilities to explore the statistics of the Networks.\n",
    "    \"\"\"\n",
    "    def density(self, G):\n",
    "        '''\n",
    "        Parameters:\n",
    "        -----------\n",
    "            G: nx.graph\n",
    "\n",
    "        Returns:\n",
    "        --------\n",
    "            Graph Density of the input network G\n",
    "        '''\n",
    "        return nx.density(G)\n",
    "    \n",
    "    def λ_max(self, G):\n",
    "        '''\n",
    "        Parameters:\n",
    "        -----------\n",
    "            G: nx.graph\n",
    "\n",
    "        Returns:\n",
    "        --------\n",
    "            max{|λ₁|, ..., |λₙ|}: The eigenvalue with the largest magnitude\n",
    "        '''\n",
    "        G_temp = nx.to_numpy_array(G)\n",
    "        w, v = np.linalg.eig(G_temp)\n",
    "        e = np.absolute(w)\n",
    "        return np.max(e)\n",
    "\n",
    "    def deg_dist(self, G):\n",
    "        '''\n",
    "        Parameters:\n",
    "        -----------\n",
    "            G: nx.graph\n",
    "\n",
    "        Returns:\n",
    "        --------\n",
    "            A dictionary of the degree and it's associated frequency.\n",
    "        '''\n",
    "        degree_sequence = sorted([d for n, d in G.degree()], reverse = True)\n",
    "        degree_count = collections.Counter(degree_sequence)\n",
    "        return degree_sequence\n",
    "\n",
    "    def cluster_coeff(self, G):\n",
    "        '''\n",
    "        Parameters:\n",
    "        -----------\n",
    "            G: nx.graph\n",
    "\n",
    "        Returns:\n",
    "        --------\n",
    "            A list of the clustering coefficients for each node in the input Graph G.\n",
    "        '''\n",
    "        cc = nx.clustering(G).values()\n",
    "        cc_sequence = sorted(list(cc), reverse = True)\n",
    "        return cc_sequence\n",
    "    \n",
    "    def transitivity(self, G):\n",
    "        '''\n",
    "        Parameters:\n",
    "        -----------\n",
    "            G: nx.graph\n",
    "\n",
    "        Returns:\n",
    "        --------\n",
    "            The transitivity of the input Graph G.\n",
    "        '''\n",
    "        return nx.transitivity(G)\n",
    "\n",
    "    def sixth_statistic(self, G):\n",
    "        '''\n",
    "        ??? what is the 6th stat?\n",
    "        '''\n",
    "        pass\n"
   ]
  },
  {
   "cell_type": "markdown",
   "metadata": {},
   "source": [
    "## Test Zone"
   ]
  },
  {
   "cell_type": "code",
   "execution_count": null,
   "metadata": {},
   "outputs": [],
   "source": [
    "ns = NetworkStatistics()\n",
    "ns.density(NETWORKS[NETWORK_KEYS[0]])\n",
    "print(ns.λ_max(NETWORKS[NETWORK_KEYS[4]]))\n",
    "ns.deg_dist(NETWORKS[NETWORK_KEYS[0]])\n",
    "\n",
    "print(NETWORK_KEYS)"
   ]
  },
  {
   "cell_type": "code",
   "execution_count": null,
   "metadata": {},
   "outputs": [],
   "source": [
    "\n",
    "dd = ns.deg_dist(NETWORKS[NETWORK_KEYS[0]])\n",
    "\n",
    "ax = sns.displot(data = dd, bins = 30, stat = 'probability')\n",
    "ax.set(xlabel = r'Degree $d$', ylabel = 'Probability', title = 'Normalized Degree Distribution Histogram of the {} Network'.format(NETWORK_KEYS[0]))\n",
    "\n",
    "plt.show()"
   ]
  },
  {
   "cell_type": "markdown",
   "metadata": {},
   "source": [
    "## Histogram Plotting Functions"
   ]
  },
  {
   "cell_type": "code",
   "execution_count": null,
   "metadata": {},
   "outputs": [],
   "source": [
    "def hist_plots(data, bins, network_name, plot_type = None):\n",
    "\n",
    "    # Global Plotting Settings (re-executing them just in case)\n",
    "    sns.set(rc = {'figure.figsize': (10,6)})\n",
    "    sns.set(rc = {'figure.dpi': 500})\n",
    "    sns.set_style(\"white\")\n",
    "\n",
    "\n",
    "    ax = sns.displot(data = data, bins = bins, stat = 'probability')\n",
    "\n",
    "    labels = {}\n",
    "\n",
    "    if 'pres_' in network_name:\n",
    "        network_name = 'Co-Presence ' + network_name.split('pres_')[1]\n",
    "        print(network_name)\n",
    "    if plot_type == 'deg_dist':\n",
    "        labels['xlabel'] = r'Degree $d$'\n",
    "        labels['ylabel'] = r'Probability'\n",
    "        labels['title'] = 'Normalized Degree Distribution: {} Network'.format(network_name)\n",
    "\n",
    "    if plot_type == 'cluster_coeff':\n",
    "        labels['xlabel'] = r'Clustering Coefficient $cc(v)$'\n",
    "        labels['ylabel'] = r'Probability'\n",
    "        labels['title'] = 'Normalized Clustering Coefficient Distribution: {} Network'.format(network_name)\n",
    "\n",
    "    ax.set(**labels)\n",
    "    return ax\n",
    "\n"
   ]
  },
  {
   "cell_type": "markdown",
   "metadata": {},
   "source": [
    "## Network Statistics - Calculate and Save"
   ]
  },
  {
   "cell_type": "code",
   "execution_count": null,
   "metadata": {},
   "outputs": [],
   "source": [
    "\n",
    "ns = NetworkStatistics()\n",
    "\n",
    "data_dict = {'d': [], 'λ': [], 't': []}\n",
    "\n",
    "for name in tqdm(NETWORK_KEYS):\n",
    "\n",
    "    graph = NETWORKS[name]\n",
    "\n",
    "    # Network Statistics\n",
    "    d = ns.density(graph)\n",
    "    λ = ns.λ_max(graph)\n",
    "    t = ns.transitivity(graph)\n",
    "\n",
    "    data_dict['d'].append(d)\n",
    "    data_dict['λ'].append(λ)\n",
    "    data_dict['t'].append(t)\n",
    "\n",
    "data_df = pd.DataFrame.from_dict(data_dict)\n",
    "data_df.to_csv('../data/results/NetworkStatistics.csv', index = False)\n"
   ]
  },
  {
   "cell_type": "code",
   "execution_count": null,
   "metadata": {},
   "outputs": [],
   "source": [
    "\n",
    "for name in tqdm(NETWORK_KEYS):\n",
    "    graph = NETWORKS[name]\n",
    "\n",
    "    dd = ns.deg_dist(graph)\n",
    "    cc = ns.cluster_coeff(graph)\n",
    "\n",
    "    fig1 = hist_plots(data = dd, bins = 30, network_name = name, plot_type = 'deg_dist')\n",
    "    fig1.savefig('../figs/' + name + '_deg_dist' + '.png')\n",
    "\n",
    "    fig2 = hist_plots(data = cc, bins = 30, network_name = name, plot_type = 'cluster_coeff')\n",
    "    fig2.savefig('../figs/' + name + '_cluster_coeff' + '.png')"
   ]
  },
  {
   "cell_type": "code",
   "execution_count": null,
   "metadata": {},
   "outputs": [],
   "source": []
  }
 ],
 "metadata": {
  "kernelspec": {
   "display_name": "Python 3",
   "language": "python",
   "name": "python3"
  },
  "language_info": {
   "codemirror_mode": {
    "name": "ipython",
    "version": 3
   },
   "file_extension": ".py",
   "mimetype": "text/x-python",
   "name": "python",
   "nbconvert_exporter": "python",
   "pygments_lexer": "ipython3",
   "version": "3.8.5"
  }
 },
 "nbformat": 4,
 "nbformat_minor": 2
}
